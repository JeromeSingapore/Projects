{
 "cells": [
  {
   "cell_type": "markdown",
   "metadata": {},
   "source": [
    "# SINGAPORE PUBLIC HOUSING (HDB) RESALE PRICE PREDICTION"
   ]
  },
  {
   "cell_type": "code",
   "execution_count": 2,
   "metadata": {},
   "outputs": [],
   "source": [
    "import os\n",
    "import pandas as pd\n",
    "import numpy as np"
   ]
  },
  {
   "cell_type": "markdown",
   "metadata": {},
   "source": [
    "Download raw data from:\n",
    "\n",
    "https://data.gov.sg/dataset/resale-flat-prices\n",
    "\n",
    "https://data.gov.sg/dataset/hdb-resale-price-index\n"
   ]
  },
  {
   "cell_type": "code",
   "execution_count": 3,
   "metadata": {},
   "outputs": [
    {
     "name": "stdout",
     "output_type": "stream",
     "text": [
      " Volume in drive C has no label.\n",
      " Volume Serial Number is 4C22-B1CB\n",
      "\n",
      " Directory of C:\\Users\\user\\Documents\\Python Scripts\\raw_data\n",
      "\n",
      "11/15/2019  12:47 PM    <DIR>          .\n",
      "11/15/2019  12:47 PM    <DIR>          ..\n",
      "11/05/2019  03:31 PM             1,684 hdb_price_index.csv\n",
      "11/05/2019  03:31 PM             2,501 metadata-hdb-resale-price-index.txt\n",
      "11/05/2019  03:05 PM            13,208 metadata-resale-flat-prices.txt\n",
      "11/05/2019  03:05 PM        22,923,132 resale-flat-prices-based-on-approval-date-1990-1999.csv\n",
      "11/05/2019  03:05 PM        29,739,597 resale-flat-prices-based-on-approval-date-2000-feb-2012.csv\n",
      "11/05/2019  03:05 PM         3,108,078 resale-flat-prices-based-on-registration-date-from-jan-2015-to-dec-2016.csv\n",
      "11/05/2019  03:05 PM         5,555,610 resale-flat-prices-based-on-registration-date-from-jan-2017-onwards.csv\n",
      "11/05/2019  03:05 PM         4,212,975 resale-flat-prices-based-on-registration-date-from-mar-2012-to-dec-2014.csv\n",
      "               8 File(s)     65,556,785 bytes\n",
      "               2 Dir(s)  163,843,706,880 bytes free\n"
     ]
    }
   ],
   "source": [
    "# List all files in raw_data directory\n",
    "!dir raw_data\\\n"
   ]
  },
  {
   "cell_type": "code",
   "execution_count": 31,
   "metadata": {},
   "outputs": [
    {
     "name": "stdout",
     "output_type": "stream",
     "text": [
      "['resale-flat-prices-based-on-approval-date-1990-1999.csv', 'resale-flat-prices-based-on-approval-date-2000-feb-2012.csv', 'resale-flat-prices-based-on-registration-date-from-jan-2015-to-dec-2016.csv', 'resale-flat-prices-based-on-registration-date-from-jan-2017-onwards.csv', 'resale-flat-prices-based-on-registration-date-from-mar-2012-to-dec-2014.csv']\n"
     ]
    }
   ],
   "source": [
    "# CREATE A LIST CONTAINING THE CSV FILE NAMES:\n",
    "\n",
    "# Set destination of folder containing raw data\n",
    "file_loc = 'raw_data/'\n",
    "# This variable will contain every file in folder\n",
    "file_list = os.listdir(file_loc)\n",
    "# This variable only bothers with files ending with '.csv'\n",
    "file_list_csv = [i for i in file_list if i.endswith('.csv')]\n",
    "del(file_list_csv[0])\n",
    "print(file_list_csv)\n"
   ]
  },
  {
   "cell_type": "code",
   "execution_count": 32,
   "metadata": {},
   "outputs": [],
   "source": [
    "# CREATE A FUNCTION TO LOAD THE DATA FROM THE LIST OF CSV FILES INTO ONE PANDAS DATFRAME:\n",
    "\n",
    "def CombineDF(file_loc, file_list):\n",
    "    \n",
    "    dataset_files = []\n",
    "    \n",
    "    for i in file_list:\n",
    "        dataset_files.append('{}{}'.format(file_loc, i))\n",
    "        \n",
    "    frames = [pd.read_csv(f) for f in list(dataset_files)]\n",
    "    \n",
    "    # Combine all the pandas dataframes\n",
    "    \n",
    "    combi_result = pd.concat(frames, ignore_index=True, sort=True).fillna(0)\n",
    "    \n",
    "    return combi_result\n"
   ]
  },
  {
   "cell_type": "code",
   "execution_count": 33,
   "metadata": {},
   "outputs": [],
   "source": [
    "# Utilise the newly created functions:\n",
    "hdb_combi_df = CombineDF(file_loc, file_list_csv)\n"
   ]
  },
  {
   "cell_type": "code",
   "execution_count": 34,
   "metadata": {},
   "outputs": [
    {
     "data": {
      "text/html": [
       "<div>\n",
       "<style scoped>\n",
       "    .dataframe tbody tr th:only-of-type {\n",
       "        vertical-align: middle;\n",
       "    }\n",
       "\n",
       "    .dataframe tbody tr th {\n",
       "        vertical-align: top;\n",
       "    }\n",
       "\n",
       "    .dataframe thead th {\n",
       "        text-align: right;\n",
       "    }\n",
       "</style>\n",
       "<table border=\"1\" class=\"dataframe\">\n",
       "  <thead>\n",
       "    <tr style=\"text-align: right;\">\n",
       "      <th></th>\n",
       "      <th>block</th>\n",
       "      <th>flat_model</th>\n",
       "      <th>flat_type</th>\n",
       "      <th>floor_area_sqm</th>\n",
       "      <th>lease_commence_date</th>\n",
       "      <th>month</th>\n",
       "      <th>remaining_lease</th>\n",
       "      <th>resale_price</th>\n",
       "      <th>storey_range</th>\n",
       "      <th>street_name</th>\n",
       "      <th>town</th>\n",
       "    </tr>\n",
       "  </thead>\n",
       "  <tbody>\n",
       "    <tr>\n",
       "      <td>0</td>\n",
       "      <td>309</td>\n",
       "      <td>IMPROVED</td>\n",
       "      <td>1 ROOM</td>\n",
       "      <td>31.0</td>\n",
       "      <td>1977</td>\n",
       "      <td>1990-01</td>\n",
       "      <td>0</td>\n",
       "      <td>9000.0</td>\n",
       "      <td>10 TO 12</td>\n",
       "      <td>ANG MO KIO AVE 1</td>\n",
       "      <td>ANG MO KIO</td>\n",
       "    </tr>\n",
       "    <tr>\n",
       "      <td>1</td>\n",
       "      <td>309</td>\n",
       "      <td>IMPROVED</td>\n",
       "      <td>1 ROOM</td>\n",
       "      <td>31.0</td>\n",
       "      <td>1977</td>\n",
       "      <td>1990-01</td>\n",
       "      <td>0</td>\n",
       "      <td>6000.0</td>\n",
       "      <td>04 TO 06</td>\n",
       "      <td>ANG MO KIO AVE 1</td>\n",
       "      <td>ANG MO KIO</td>\n",
       "    </tr>\n",
       "    <tr>\n",
       "      <td>2</td>\n",
       "      <td>309</td>\n",
       "      <td>IMPROVED</td>\n",
       "      <td>1 ROOM</td>\n",
       "      <td>31.0</td>\n",
       "      <td>1977</td>\n",
       "      <td>1990-01</td>\n",
       "      <td>0</td>\n",
       "      <td>8000.0</td>\n",
       "      <td>10 TO 12</td>\n",
       "      <td>ANG MO KIO AVE 1</td>\n",
       "      <td>ANG MO KIO</td>\n",
       "    </tr>\n",
       "    <tr>\n",
       "      <td>3</td>\n",
       "      <td>309</td>\n",
       "      <td>IMPROVED</td>\n",
       "      <td>1 ROOM</td>\n",
       "      <td>31.0</td>\n",
       "      <td>1977</td>\n",
       "      <td>1990-01</td>\n",
       "      <td>0</td>\n",
       "      <td>6000.0</td>\n",
       "      <td>07 TO 09</td>\n",
       "      <td>ANG MO KIO AVE 1</td>\n",
       "      <td>ANG MO KIO</td>\n",
       "    </tr>\n",
       "    <tr>\n",
       "      <td>4</td>\n",
       "      <td>216</td>\n",
       "      <td>NEW GENERATION</td>\n",
       "      <td>3 ROOM</td>\n",
       "      <td>73.0</td>\n",
       "      <td>1976</td>\n",
       "      <td>1990-01</td>\n",
       "      <td>0</td>\n",
       "      <td>47200.0</td>\n",
       "      <td>04 TO 06</td>\n",
       "      <td>ANG MO KIO AVE 1</td>\n",
       "      <td>ANG MO KIO</td>\n",
       "    </tr>\n",
       "  </tbody>\n",
       "</table>\n",
       "</div>"
      ],
      "text/plain": [
       "  block      flat_model flat_type  floor_area_sqm  lease_commence_date  \\\n",
       "0   309        IMPROVED    1 ROOM            31.0                 1977   \n",
       "1   309        IMPROVED    1 ROOM            31.0                 1977   \n",
       "2   309        IMPROVED    1 ROOM            31.0                 1977   \n",
       "3   309        IMPROVED    1 ROOM            31.0                 1977   \n",
       "4   216  NEW GENERATION    3 ROOM            73.0                 1976   \n",
       "\n",
       "     month remaining_lease  resale_price storey_range       street_name  \\\n",
       "0  1990-01               0        9000.0     10 TO 12  ANG MO KIO AVE 1   \n",
       "1  1990-01               0        6000.0     04 TO 06  ANG MO KIO AVE 1   \n",
       "2  1990-01               0        8000.0     10 TO 12  ANG MO KIO AVE 1   \n",
       "3  1990-01               0        6000.0     07 TO 09  ANG MO KIO AVE 1   \n",
       "4  1990-01               0       47200.0     04 TO 06  ANG MO KIO AVE 1   \n",
       "\n",
       "         town  \n",
       "0  ANG MO KIO  \n",
       "1  ANG MO KIO  \n",
       "2  ANG MO KIO  \n",
       "3  ANG MO KIO  \n",
       "4  ANG MO KIO  "
      ]
     },
     "execution_count": 34,
     "metadata": {},
     "output_type": "execute_result"
    }
   ],
   "source": [
    "# Inspect first 5 observations of hdb_combi_df:\n",
    "hdb_combi_df.head()\n"
   ]
  },
  {
   "cell_type": "code",
   "execution_count": 35,
   "metadata": {},
   "outputs": [
    {
     "name": "stdout",
     "output_type": "stream",
     "text": [
      "   quarter  index\n",
      "0  1990-Q1   24.3\n",
      "1  1990-Q2   24.4\n",
      "2  1990-Q3   25.0\n",
      "3  1990-Q4   24.7\n",
      "4  1991-Q1   24.9\n",
      "     quarter  index\n",
      "113  2018-Q2  131.7\n",
      "114  2018-Q3  131.6\n",
      "115  2018-Q4  131.4\n",
      "116  2019-Q1  131.0\n",
      "117  2019-Q2  130.8\n"
     ]
    }
   ],
   "source": [
    "# LOAD QUARTERLY PRICE INDEX\n",
    "\n",
    "hdb_priceIndex_df = pd.read_csv(\"raw_data/hdb_price_index.csv\")\n",
    "\n",
    "print(hdb_priceIndex_df.head())\n",
    "print(hdb_priceIndex_df.tail())\n"
   ]
  },
  {
   "cell_type": "code",
   "execution_count": 36,
   "metadata": {},
   "outputs": [
    {
     "data": {
      "text/html": [
       "<div>\n",
       "<style scoped>\n",
       "    .dataframe tbody tr th:only-of-type {\n",
       "        vertical-align: middle;\n",
       "    }\n",
       "\n",
       "    .dataframe tbody tr th {\n",
       "        vertical-align: top;\n",
       "    }\n",
       "\n",
       "    .dataframe thead th {\n",
       "        text-align: right;\n",
       "    }\n",
       "</style>\n",
       "<table border=\"1\" class=\"dataframe\">\n",
       "  <thead>\n",
       "    <tr style=\"text-align: right;\">\n",
       "      <th></th>\n",
       "      <th>index</th>\n",
       "    </tr>\n",
       "    <tr>\n",
       "      <th>quarter</th>\n",
       "      <th></th>\n",
       "    </tr>\n",
       "  </thead>\n",
       "  <tbody>\n",
       "    <tr>\n",
       "      <td>1990-01-01</td>\n",
       "      <td>24.3</td>\n",
       "    </tr>\n",
       "    <tr>\n",
       "      <td>1990-04-01</td>\n",
       "      <td>24.4</td>\n",
       "    </tr>\n",
       "    <tr>\n",
       "      <td>1990-07-01</td>\n",
       "      <td>25.0</td>\n",
       "    </tr>\n",
       "    <tr>\n",
       "      <td>1990-10-01</td>\n",
       "      <td>24.7</td>\n",
       "    </tr>\n",
       "    <tr>\n",
       "      <td>1991-01-01</td>\n",
       "      <td>24.9</td>\n",
       "    </tr>\n",
       "  </tbody>\n",
       "</table>\n",
       "</div>"
      ],
      "text/plain": [
       "            index\n",
       "quarter          \n",
       "1990-01-01   24.3\n",
       "1990-04-01   24.4\n",
       "1990-07-01   25.0\n",
       "1990-10-01   24.7\n",
       "1991-01-01   24.9"
      ]
     },
     "execution_count": 36,
     "metadata": {},
     "output_type": "execute_result"
    }
   ],
   "source": [
    "# USE \"QUARTER\" INFORMATION AS DATAFRAME INDEX\n",
    "\n",
    "hdb_priceIndex_df = hdb_priceIndex_df.set_index(pd.to_datetime(hdb_priceIndex_df[\"quarter\"]))\n",
    "\n",
    "del hdb_priceIndex_df['quarter']\n",
    "hdb_priceIndex_df.head()"
   ]
  },
  {
   "cell_type": "code",
   "execution_count": 37,
   "metadata": {},
   "outputs": [
    {
     "data": {
      "image/png": "[encoded data removed]",
      "text/plain": [
       "<Figure size 432x288 with 1 Axes>"
      ]
     },
     "metadata": {},
     "output_type": "display_data"
    }
   ],
   "source": [
    "# DISPLAY QUARTERLY PRICE INDEX ON GGPLOT\n",
    "\n",
    "import matplotlib.pyplot as plt\n",
    "\n",
    "plt.style.use('ggplot')\n",
    "\n",
    "hdb_priceIndex_df[\"index\"].plot()\n",
    "plt.title(\"HDB QUARTERLY PRICE INDEX\")\n",
    "plt.show()\n"
   ]
  },
  {
   "cell_type": "code",
   "execution_count": 38,
   "metadata": {},
   "outputs": [
    {
     "data": {
      "text/plain": [
       "Index(['block', 'flat_model', 'flat_type', 'floor_area_sqm',\n",
       "       'lease_commence_date', 'month', 'remaining_lease', 'resale_price',\n",
       "       'storey_range', 'street_name', 'town'],\n",
       "      dtype='object')"
      ]
     },
     "execution_count": 38,
     "metadata": {},
     "output_type": "execute_result"
    }
   ],
   "source": [
    "# Check column names in dataframe\n",
    "hdb_combi_df.columns"
   ]
  },
  {
   "cell_type": "code",
   "execution_count": 39,
   "metadata": {},
   "outputs": [
    {
     "data": {
      "text/plain": [
       "array(['IMPROVED', 'NEW GENERATION', 'MODEL A', 'STANDARD', 'SIMPLIFIED',\n",
       "       'MODEL A-MAISONETTE', 'APARTMENT', 'MAISONETTE', 'TERRACE',\n",
       "       '2-ROOM', 'IMPROVED-MAISONETTE', 'MULTI GENERATION',\n",
       "       'PREMIUM APARTMENT', 'Improved', 'New Generation', 'Model A',\n",
       "       'Standard', 'Apartment', 'Simplified', 'Model A-Maisonette',\n",
       "       'Maisonette', 'Multi Generation', 'Adjoined flat',\n",
       "       'Premium Apartment', 'Terrace', 'Improved-Maisonette',\n",
       "       'Premium Maisonette', '2-room', 'Model A2', 'Type S1', 'Type S2',\n",
       "       'DBSS', 'Premium Apartment Loft'], dtype=object)"
      ]
     },
     "execution_count": 39,
     "metadata": {},
     "output_type": "execute_result"
    }
   ],
   "source": [
    "# Look at flat model options\n",
    "hdb_combi_df[\"flat_model\"].unique()"
   ]
  },
  {
   "cell_type": "code",
   "execution_count": 40,
   "metadata": {},
   "outputs": [
    {
     "data": {
      "text/plain": [
       "array(['improved', 'new generation', 'model a', 'standard', 'simplified',\n",
       "       'model a-maisonette', 'apartment', 'maisonette', 'terrace',\n",
       "       '2-room', 'improved-maisonette', 'multi generation',\n",
       "       'premium apartment', 'adjoined flat', 'premium maisonette',\n",
       "       'model a2', 'type s1', 'type s2', 'dbss', 'premium apartment loft'],\n",
       "      dtype=object)"
      ]
     },
     "execution_count": 40,
     "metadata": {},
     "output_type": "execute_result"
    }
   ],
   "source": [
    "hdb_combi_df[\"flat_model\"].str.lower().unique()"
   ]
  },
  {
   "cell_type": "code",
   "execution_count": 41,
   "metadata": {},
   "outputs": [],
   "source": [
    "# Replace \"flat model\" with lowercase values\n",
    "hdb_combi_df[\"flat_model\"] = hdb_combi_df[\"flat_model\"].str.lower()"
   ]
  },
  {
   "cell_type": "code",
   "execution_count": 42,
   "metadata": {},
   "outputs": [
    {
     "data": {
      "text/plain": [
       "20"
      ]
     },
     "execution_count": 42,
     "metadata": {},
     "output_type": "execute_result"
    }
   ],
   "source": [
    "# the number of different flat models has been reduced from 35 to 20: \n",
    "len(hdb_combi_df[\"flat_model\"].unique())"
   ]
  },
  {
   "cell_type": "code",
   "execution_count": 43,
   "metadata": {},
   "outputs": [],
   "source": [
    "# Convert flat model into categorical data: \n",
    "hdb_combi_df[\"flat_model\"] = hdb_combi_df[\"flat_model\"].astype(\"category\")"
   ]
  },
  {
   "cell_type": "code",
   "execution_count": 44,
   "metadata": {},
   "outputs": [
    {
     "data": {
      "text/plain": [
       "block                    object\n",
       "flat_model             category\n",
       "flat_type                object\n",
       "floor_area_sqm          float64\n",
       "lease_commence_date       int64\n",
       "month                    object\n",
       "remaining_lease          object\n",
       "resale_price            float64\n",
       "storey_range             object\n",
       "street_name              object\n",
       "town                     object\n",
       "dtype: object"
      ]
     },
     "execution_count": 44,
     "metadata": {},
     "output_type": "execute_result"
    }
   ],
   "source": [
    "# Check data types\n",
    "hdb_combi_df.dtypes"
   ]
  },
  {
   "cell_type": "code",
   "execution_count": 45,
   "metadata": {},
   "outputs": [
    {
     "data": {
      "text/plain": [
       "array(['1 ROOM', '3 ROOM', '4 ROOM', '5 ROOM', '2 ROOM', 'EXECUTIVE',\n",
       "       'MULTI GENERATION', 'MULTI-GENERATION'], dtype=object)"
      ]
     },
     "execution_count": 45,
     "metadata": {},
     "output_type": "execute_result"
    }
   ],
   "source": [
    "# Check values of flat types\n",
    "hdb_combi_df[\"flat_type\"].unique()"
   ]
  },
  {
   "cell_type": "code",
   "execution_count": 46,
   "metadata": {},
   "outputs": [
    {
     "data": {
      "text/plain": [
       "array(['1 ROOM', '3 ROOM', '4 ROOM', '5 ROOM', '2 ROOM', 'EXECUTIVE',\n",
       "       'MULTI GENERATION'], dtype=object)"
      ]
     },
     "execution_count": 46,
     "metadata": {},
     "output_type": "execute_result"
    }
   ],
   "source": [
    "# Replace \"multi-generation\" with \"mutli generation\"\n",
    "mask = hdb_combi_df.flat_type == \"MULTI-GENERATION\"\n",
    "column_name = \"flat_type\"\n",
    "hdb_combi_df.loc[mask, column_name] = \"MULTI GENERATION\"\n",
    "\n",
    "# Check values of flat types\n",
    "hdb_combi_df[\"flat_type\"].unique()"
   ]
  },
  {
   "cell_type": "code",
   "execution_count": 47,
   "metadata": {},
   "outputs": [
    {
     "data": {
      "text/plain": [
       "block                    object\n",
       "flat_model             category\n",
       "flat_type              category\n",
       "floor_area_sqm          float64\n",
       "lease_commence_date       int64\n",
       "month                    object\n",
       "remaining_lease          object\n",
       "resale_price            float64\n",
       "storey_range           category\n",
       "street_name              object\n",
       "town                   category\n",
       "dtype: object"
      ]
     },
     "execution_count": 47,
     "metadata": {},
     "output_type": "execute_result"
    }
   ],
   "source": [
    "# Convert flat model into categorical data:\n",
    "hdb_combi_df[\"flat_type\"] = hdb_combi_df[\"flat_type\"].astype(\"category\")\n",
    "hdb_combi_df[\"storey_range\"] = hdb_combi_df[\"storey_range\"].astype(\"category\")\n",
    "hdb_combi_df[\"town\"] = hdb_combi_df[\"town\"].astype(\"category\")\n",
    "hdb_combi_df.dtypes"
   ]
  },
  {
   "cell_type": "code",
   "execution_count": 48,
   "metadata": {},
   "outputs": [
    {
     "data": {
      "text/html": [
       "<div>\n",
       "<style scoped>\n",
       "    .dataframe tbody tr th:only-of-type {\n",
       "        vertical-align: middle;\n",
       "    }\n",
       "\n",
       "    .dataframe tbody tr th {\n",
       "        vertical-align: top;\n",
       "    }\n",
       "\n",
       "    .dataframe thead th {\n",
       "        text-align: right;\n",
       "    }\n",
       "</style>\n",
       "<table border=\"1\" class=\"dataframe\">\n",
       "  <thead>\n",
       "    <tr style=\"text-align: right;\">\n",
       "      <th></th>\n",
       "      <th>block</th>\n",
       "      <th>flat_model</th>\n",
       "      <th>flat_type</th>\n",
       "      <th>floor_area_sqm</th>\n",
       "      <th>lease_commence_date</th>\n",
       "      <th>month</th>\n",
       "      <th>remaining_lease</th>\n",
       "      <th>resale_price</th>\n",
       "      <th>storey_range</th>\n",
       "      <th>street_name</th>\n",
       "      <th>town</th>\n",
       "    </tr>\n",
       "  </thead>\n",
       "  <tbody>\n",
       "    <tr>\n",
       "      <td>0</td>\n",
       "      <td>309</td>\n",
       "      <td>improved</td>\n",
       "      <td>1 ROOM</td>\n",
       "      <td>31.0</td>\n",
       "      <td>1977</td>\n",
       "      <td>1990-01</td>\n",
       "      <td>0</td>\n",
       "      <td>9000.0</td>\n",
       "      <td>10 TO 12</td>\n",
       "      <td>ANG MO KIO AVE 1</td>\n",
       "      <td>ANG MO KIO</td>\n",
       "    </tr>\n",
       "    <tr>\n",
       "      <td>1</td>\n",
       "      <td>309</td>\n",
       "      <td>improved</td>\n",
       "      <td>1 ROOM</td>\n",
       "      <td>31.0</td>\n",
       "      <td>1977</td>\n",
       "      <td>1990-01</td>\n",
       "      <td>0</td>\n",
       "      <td>6000.0</td>\n",
       "      <td>04 TO 06</td>\n",
       "      <td>ANG MO KIO AVE 1</td>\n",
       "      <td>ANG MO KIO</td>\n",
       "    </tr>\n",
       "  </tbody>\n",
       "</table>\n",
       "</div>"
      ],
      "text/plain": [
       "  block flat_model flat_type  floor_area_sqm  lease_commence_date    month  \\\n",
       "0   309   improved    1 ROOM            31.0                 1977  1990-01   \n",
       "1   309   improved    1 ROOM            31.0                 1977  1990-01   \n",
       "\n",
       "  remaining_lease  resale_price storey_range       street_name        town  \n",
       "0               0        9000.0     10 TO 12  ANG MO KIO AVE 1  ANG MO KIO  \n",
       "1               0        6000.0     04 TO 06  ANG MO KIO AVE 1  ANG MO KIO  "
      ]
     },
     "execution_count": 48,
     "metadata": {},
     "output_type": "execute_result"
    }
   ],
   "source": [
    "hdb_combi_df.head(2)"
   ]
  },
  {
   "cell_type": "code",
   "execution_count": 49,
   "metadata": {},
   "outputs": [
    {
     "data": {
      "text/html": [
       "<div>\n",
       "<style scoped>\n",
       "    .dataframe tbody tr th:only-of-type {\n",
       "        vertical-align: middle;\n",
       "    }\n",
       "\n",
       "    .dataframe tbody tr th {\n",
       "        vertical-align: top;\n",
       "    }\n",
       "\n",
       "    .dataframe thead th {\n",
       "        text-align: right;\n",
       "    }\n",
       "</style>\n",
       "<table border=\"1\" class=\"dataframe\">\n",
       "  <thead>\n",
       "    <tr style=\"text-align: right;\">\n",
       "      <th></th>\n",
       "      <th>block</th>\n",
       "      <th>flat_model</th>\n",
       "      <th>flat_type</th>\n",
       "      <th>floor_area_sqm</th>\n",
       "      <th>lease_commence_date</th>\n",
       "      <th>remaining_lease</th>\n",
       "      <th>resale_price</th>\n",
       "      <th>storey_range</th>\n",
       "      <th>street_name</th>\n",
       "      <th>town</th>\n",
       "    </tr>\n",
       "    <tr>\n",
       "      <th>month</th>\n",
       "      <th></th>\n",
       "      <th></th>\n",
       "      <th></th>\n",
       "      <th></th>\n",
       "      <th></th>\n",
       "      <th></th>\n",
       "      <th></th>\n",
       "      <th></th>\n",
       "      <th></th>\n",
       "      <th></th>\n",
       "    </tr>\n",
       "  </thead>\n",
       "  <tbody>\n",
       "    <tr>\n",
       "      <td>2017-07</td>\n",
       "      <td>49</td>\n",
       "      <td>standard</td>\n",
       "      <td>3 ROOM</td>\n",
       "      <td>88.0</td>\n",
       "      <td>1973</td>\n",
       "      <td>54 years 06 months</td>\n",
       "      <td>618000.0</td>\n",
       "      <td>01 TO 03</td>\n",
       "      <td>KIM PONG RD</td>\n",
       "      <td>BUKIT MERAH</td>\n",
       "    </tr>\n",
       "    <tr>\n",
       "      <td>2017-07</td>\n",
       "      <td>49</td>\n",
       "      <td>standard</td>\n",
       "      <td>3 ROOM</td>\n",
       "      <td>88.0</td>\n",
       "      <td>1973</td>\n",
       "      <td>54 years 07 months</td>\n",
       "      <td>650000.0</td>\n",
       "      <td>01 TO 03</td>\n",
       "      <td>KIM PONG RD</td>\n",
       "      <td>BUKIT MERAH</td>\n",
       "    </tr>\n",
       "    <tr>\n",
       "      <td>2019-05</td>\n",
       "      <td>38</td>\n",
       "      <td>standard</td>\n",
       "      <td>3 ROOM</td>\n",
       "      <td>88.0</td>\n",
       "      <td>1974</td>\n",
       "      <td>53 years 08 months</td>\n",
       "      <td>638000.0</td>\n",
       "      <td>01 TO 03</td>\n",
       "      <td>KIM PONG RD</td>\n",
       "      <td>BUKIT MERAH</td>\n",
       "    </tr>\n",
       "  </tbody>\n",
       "</table>\n",
       "</div>"
      ],
      "text/plain": [
       "        block flat_model flat_type  floor_area_sqm  lease_commence_date  \\\n",
       "month                                                                     \n",
       "2017-07    49   standard    3 ROOM            88.0                 1973   \n",
       "2017-07    49   standard    3 ROOM            88.0                 1973   \n",
       "2019-05    38   standard    3 ROOM            88.0                 1974   \n",
       "\n",
       "            remaining_lease  resale_price storey_range  street_name  \\\n",
       "month                                                                 \n",
       "2017-07  54 years 06 months      618000.0     01 TO 03  KIM PONG RD   \n",
       "2017-07  54 years 07 months      650000.0     01 TO 03  KIM PONG RD   \n",
       "2019-05  53 years 08 months      638000.0     01 TO 03  KIM PONG RD   \n",
       "\n",
       "                town  \n",
       "month                 \n",
       "2017-07  BUKIT MERAH  \n",
       "2017-07  BUKIT MERAH  \n",
       "2019-05  BUKIT MERAH  "
      ]
     },
     "execution_count": 49,
     "metadata": {},
     "output_type": "execute_result"
    }
   ],
   "source": [
    "df_kim_pong = hdb_combi_df[hdb_combi_df[\"street_name\"].str.contains('KIM PONG', na=False)]\n",
    "df_kim_pong = df_kim_pong.set_index(\"month\")\n",
    "pd.to_datetime(df_kim_pong.index)\n",
    "df_kim_pong = df_kim_pong.sort_index()\n",
    "df_kim_pong.tail(3)"
   ]
  },
  {
   "cell_type": "code",
   "execution_count": 50,
   "metadata": {},
   "outputs": [
    {
     "data": {
      "image/png": "[encoded data removed]",
      "text/plain": [
       "<Figure size 432x288 with 1 Axes>"
      ]
     },
     "metadata": {},
     "output_type": "display_data"
    }
   ],
   "source": [
    "\n",
    "df_kim_pong[\"resale_price\"].plot()\n",
    "plt.title(\"HDB QUARTERLY PRICE INDEX\")\n",
    "plt.show()\n"
   ]
  },
  {
   "cell_type": "code",
   "execution_count": 52,
   "metadata": {},
   "outputs": [],
   "source": [
    "# Export transformed data to new .csv file\n",
    "\n",
    "hdb_combi_df.to_csv(\"interim/sg-resale-flat-prices-1990-to-2019-jan.csv\", index = False)\n"
   ]
  },
  {
   "cell_type": "code",
   "execution_count": null,
   "metadata": {},
   "outputs": [],
   "source": []
  },
  {
   "cell_type": "code",
   "execution_count": null,
   "metadata": {},
   "outputs": [],
   "source": []
  },
  {
   "cell_type": "code",
   "execution_count": null,
   "metadata": {},
   "outputs": [],
   "source": []
  },
  {
   "cell_type": "code",
   "execution_count": null,
   "metadata": {},
   "outputs": [],
   "source": []
  }
 ],
 "metadata": {
  "kernelspec": {
   "display_name": "Python 3",
   "language": "python",
   "name": "python3"
  },
  "language_info": {
   "codemirror_mode": {
    "name": "ipython",
    "version": 3
   },
   "file_extension": ".py",
   "mimetype": "text/x-python",
   "name": "python",
   "nbconvert_exporter": "python",
   "pygments_lexer": "ipython3",
   "version": "3.7.4"
  }
 },
 "nbformat": 4,
 "nbformat_minor": 2
}
