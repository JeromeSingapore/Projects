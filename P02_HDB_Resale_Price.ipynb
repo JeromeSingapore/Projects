{
 "cells": [
  {
   "cell_type": "markdown",
   "metadata": {},
   "source": [
    "# SINGAPORE PUBLIC HOUSING (HDB) RESALE PRICE PREDICTION"
   ]
  },
  {
   "cell_type": "code",
   "execution_count": 2,
   "metadata": {},
   "outputs": [],
   "source": [
    "import os\n",
    "import pandas as pd"
   ]
  },
  {
   "cell_type": "markdown",
   "metadata": {},
   "source": [
    "Download raw data from:\n",
    "\n",
    "https://data.gov.sg/dataset/resale-flat-prices\n",
    "\n",
    "https://data.gov.sg/dataset/hdb-resale-price-index\n"
   ]
  },
  {
   "cell_type": "code",
   "execution_count": 6,
   "metadata": {},
   "outputs": [
    {
     "name": "stdout",
     "output_type": "stream",
     "text": [
      " Volume in drive C is Windows\n",
      " Volume Serial Number is 2680-8A65\n",
      "\n",
      " Directory of C:\\Users\\JGPC04\\Desktop\\01_Projects\\P02_HDB_Resale_Price_ScikitLearn\\raw_data\n",
      "\n",
      "05/11/2019  03:05 PM    <DIR>          .\n",
      "05/11/2019  03:05 PM    <DIR>          ..\n",
      "05/11/2019  03:05 PM            13,208 metadata-resale-flat-prices.txt\n",
      "05/11/2019  03:05 PM        22,923,132 resale-flat-prices-based-on-approval-date-1990-1999.csv\n",
      "05/11/2019  03:05 PM        29,739,597 resale-flat-prices-based-on-approval-date-2000-feb-2012.csv\n",
      "05/11/2019  03:05 PM         3,108,078 resale-flat-prices-based-on-registration-date-from-jan-2015-to-dec-2016.csv\n",
      "05/11/2019  03:05 PM         5,555,610 resale-flat-prices-based-on-registration-date-from-jan-2017-onwards.csv\n",
      "05/11/2019  03:05 PM         4,212,975 resale-flat-prices-based-on-registration-date-from-mar-2012-to-dec-2014.csv\n",
      "               6 File(s)     65,552,600 bytes\n",
      "               2 Dir(s)  15,719,440,384 bytes free\n"
     ]
    }
   ],
   "source": [
    "# List all files in raw_data directory\n",
    "!dir raw_data\\\n"
   ]
  },
  {
   "cell_type": "code",
   "execution_count": 7,
   "metadata": {},
   "outputs": [
    {
     "name": "stdout",
     "output_type": "stream",
     "text": [
      "['resale-flat-prices-based-on-approval-date-1990-1999.csv', 'resale-flat-prices-based-on-approval-date-2000-feb-2012.csv', 'resale-flat-prices-based-on-registration-date-from-jan-2015-to-dec-2016.csv', 'resale-flat-prices-based-on-registration-date-from-jan-2017-onwards.csv', 'resale-flat-prices-based-on-registration-date-from-mar-2012-to-dec-2014.csv']\n"
     ]
    }
   ],
   "source": [
    "# CREATE A LIST CONTAINING THE CSV FILE NAMES:\n",
    "\n",
    "# Set destination of folder containing raw data\n",
    "file_loc = 'raw_data/'\n",
    "# This variable will contain every file in folder\n",
    "file_list = os.listdir(file_loc)\n",
    "# This variable only bothers with files ending with '.csv'\n",
    "file_list_csv = [i for i in file_list if i.endswith('.csv')]\n",
    "print(file_list_csv)\n"
   ]
  },
  {
   "cell_type": "code",
   "execution_count": 12,
   "metadata": {},
   "outputs": [],
   "source": [
    "# CREATE A FUNCTION TO LOAD THE DATA FROM THE LIST OF CSV FILES INTO ONE PANDAS DATFRAME:\n",
    "\n",
    "def CombineDF(file_loc, file_list):\n",
    "    \n",
    "    dataset_files = []\n",
    "    \n",
    "    for i in file_list:\n",
    "        dataset_files.append('{}{}'.format(file_loc, i))\n",
    "        \n",
    "    frames = [pd.read_csv(f) for f in list(dataset_files)]\n",
    "    \n",
    "    # Combine all the pandas dataframes\n",
    "    \n",
    "    combi_result = pd.concat(frames, ignore_index=True, sort=True).fillna(0)\n",
    "    \n",
    "    return combi_result\n"
   ]
  },
  {
   "cell_type": "code",
   "execution_count": 13,
   "metadata": {},
   "outputs": [],
   "source": [
    "# Utilise the newly created functions:\n",
    "hdb_combi_df = CombineDF(file_loc, file_list_csv)\n"
   ]
  },
  {
   "cell_type": "code",
   "execution_count": 14,
   "metadata": {},
   "outputs": [
    {
     "data": {
      "text/html": [
       "<div>\n",
       "<style scoped>\n",
       "    .dataframe tbody tr th:only-of-type {\n",
       "        vertical-align: middle;\n",
       "    }\n",
       "\n",
       "    .dataframe tbody tr th {\n",
       "        vertical-align: top;\n",
       "    }\n",
       "\n",
       "    .dataframe thead th {\n",
       "        text-align: right;\n",
       "    }\n",
       "</style>\n",
       "<table border=\"1\" class=\"dataframe\">\n",
       "  <thead>\n",
       "    <tr style=\"text-align: right;\">\n",
       "      <th></th>\n",
       "      <th>block</th>\n",
       "      <th>flat_model</th>\n",
       "      <th>flat_type</th>\n",
       "      <th>floor_area_sqm</th>\n",
       "      <th>lease_commence_date</th>\n",
       "      <th>month</th>\n",
       "      <th>remaining_lease</th>\n",
       "      <th>resale_price</th>\n",
       "      <th>storey_range</th>\n",
       "      <th>street_name</th>\n",
       "      <th>town</th>\n",
       "    </tr>\n",
       "  </thead>\n",
       "  <tbody>\n",
       "    <tr>\n",
       "      <th>0</th>\n",
       "      <td>309</td>\n",
       "      <td>IMPROVED</td>\n",
       "      <td>1 ROOM</td>\n",
       "      <td>31.0</td>\n",
       "      <td>1977</td>\n",
       "      <td>1990-01</td>\n",
       "      <td>0</td>\n",
       "      <td>9000.0</td>\n",
       "      <td>10 TO 12</td>\n",
       "      <td>ANG MO KIO AVE 1</td>\n",
       "      <td>ANG MO KIO</td>\n",
       "    </tr>\n",
       "    <tr>\n",
       "      <th>1</th>\n",
       "      <td>309</td>\n",
       "      <td>IMPROVED</td>\n",
       "      <td>1 ROOM</td>\n",
       "      <td>31.0</td>\n",
       "      <td>1977</td>\n",
       "      <td>1990-01</td>\n",
       "      <td>0</td>\n",
       "      <td>6000.0</td>\n",
       "      <td>04 TO 06</td>\n",
       "      <td>ANG MO KIO AVE 1</td>\n",
       "      <td>ANG MO KIO</td>\n",
       "    </tr>\n",
       "    <tr>\n",
       "      <th>2</th>\n",
       "      <td>309</td>\n",
       "      <td>IMPROVED</td>\n",
       "      <td>1 ROOM</td>\n",
       "      <td>31.0</td>\n",
       "      <td>1977</td>\n",
       "      <td>1990-01</td>\n",
       "      <td>0</td>\n",
       "      <td>8000.0</td>\n",
       "      <td>10 TO 12</td>\n",
       "      <td>ANG MO KIO AVE 1</td>\n",
       "      <td>ANG MO KIO</td>\n",
       "    </tr>\n",
       "    <tr>\n",
       "      <th>3</th>\n",
       "      <td>309</td>\n",
       "      <td>IMPROVED</td>\n",
       "      <td>1 ROOM</td>\n",
       "      <td>31.0</td>\n",
       "      <td>1977</td>\n",
       "      <td>1990-01</td>\n",
       "      <td>0</td>\n",
       "      <td>6000.0</td>\n",
       "      <td>07 TO 09</td>\n",
       "      <td>ANG MO KIO AVE 1</td>\n",
       "      <td>ANG MO KIO</td>\n",
       "    </tr>\n",
       "    <tr>\n",
       "      <th>4</th>\n",
       "      <td>216</td>\n",
       "      <td>NEW GENERATION</td>\n",
       "      <td>3 ROOM</td>\n",
       "      <td>73.0</td>\n",
       "      <td>1976</td>\n",
       "      <td>1990-01</td>\n",
       "      <td>0</td>\n",
       "      <td>47200.0</td>\n",
       "      <td>04 TO 06</td>\n",
       "      <td>ANG MO KIO AVE 1</td>\n",
       "      <td>ANG MO KIO</td>\n",
       "    </tr>\n",
       "  </tbody>\n",
       "</table>\n",
       "</div>"
      ],
      "text/plain": [
       "  block      flat_model flat_type  floor_area_sqm  lease_commence_date  \\\n",
       "0   309        IMPROVED    1 ROOM            31.0                 1977   \n",
       "1   309        IMPROVED    1 ROOM            31.0                 1977   \n",
       "2   309        IMPROVED    1 ROOM            31.0                 1977   \n",
       "3   309        IMPROVED    1 ROOM            31.0                 1977   \n",
       "4   216  NEW GENERATION    3 ROOM            73.0                 1976   \n",
       "\n",
       "     month remaining_lease  resale_price storey_range       street_name  \\\n",
       "0  1990-01               0        9000.0     10 TO 12  ANG MO KIO AVE 1   \n",
       "1  1990-01               0        6000.0     04 TO 06  ANG MO KIO AVE 1   \n",
       "2  1990-01               0        8000.0     10 TO 12  ANG MO KIO AVE 1   \n",
       "3  1990-01               0        6000.0     07 TO 09  ANG MO KIO AVE 1   \n",
       "4  1990-01               0       47200.0     04 TO 06  ANG MO KIO AVE 1   \n",
       "\n",
       "         town  \n",
       "0  ANG MO KIO  \n",
       "1  ANG MO KIO  \n",
       "2  ANG MO KIO  \n",
       "3  ANG MO KIO  \n",
       "4  ANG MO KIO  "
      ]
     },
     "execution_count": 14,
     "metadata": {},
     "output_type": "execute_result"
    }
   ],
   "source": [
    "# Inspect first 5 observations ofhdb_combi_df:\n",
    "hdb_combi_df.head()\n"
   ]
  },
  {
   "cell_type": "code",
   "execution_count": 45,
   "metadata": {},
   "outputs": [
    {
     "name": "stdout",
     "output_type": "stream",
     "text": [
      "   quarter  index\n",
      "0  1990-Q1   24.3\n",
      "1  1990-Q2   24.4\n",
      "2  1990-Q3   25.0\n",
      "3  1990-Q4   24.7\n",
      "4  1991-Q1   24.9\n",
      "     quarter  index\n",
      "113  2018-Q2  131.7\n",
      "114  2018-Q3  131.6\n",
      "115  2018-Q4  131.4\n",
      "116  2019-Q1  131.0\n",
      "117  2019-Q2  130.8\n"
     ]
    }
   ],
   "source": [
    "# LOAD QUARTERLY PRICE INDEX\n",
    "\n",
    "hdb_priceIndex_df = pd.read_csv(\"raw_data/hdb_price_index.csv\")\n",
    "\n",
    "print(hdb_priceIndex_df.head())\n",
    "print(hdb_priceIndex_df.tail())\n"
   ]
  },
  {
   "cell_type": "code",
   "execution_count": 49,
   "metadata": {},
   "outputs": [
    {
     "data": {
      "text/html": [
       "<div>\n",
       "<style scoped>\n",
       "    .dataframe tbody tr th:only-of-type {\n",
       "        vertical-align: middle;\n",
       "    }\n",
       "\n",
       "    .dataframe tbody tr th {\n",
       "        vertical-align: top;\n",
       "    }\n",
       "\n",
       "    .dataframe thead th {\n",
       "        text-align: right;\n",
       "    }\n",
       "</style>\n",
       "<table border=\"1\" class=\"dataframe\">\n",
       "  <thead>\n",
       "    <tr style=\"text-align: right;\">\n",
       "      <th></th>\n",
       "      <th>index</th>\n",
       "    </tr>\n",
       "    <tr>\n",
       "      <th>quarter</th>\n",
       "      <th></th>\n",
       "    </tr>\n",
       "  </thead>\n",
       "  <tbody>\n",
       "    <tr>\n",
       "      <th>1990-01-01</th>\n",
       "      <td>24.3</td>\n",
       "    </tr>\n",
       "    <tr>\n",
       "      <th>1990-04-01</th>\n",
       "      <td>24.4</td>\n",
       "    </tr>\n",
       "    <tr>\n",
       "      <th>1990-07-01</th>\n",
       "      <td>25.0</td>\n",
       "    </tr>\n",
       "    <tr>\n",
       "      <th>1990-10-01</th>\n",
       "      <td>24.7</td>\n",
       "    </tr>\n",
       "    <tr>\n",
       "      <th>1991-01-01</th>\n",
       "      <td>24.9</td>\n",
       "    </tr>\n",
       "  </tbody>\n",
       "</table>\n",
       "</div>"
      ],
      "text/plain": [
       "            index\n",
       "quarter          \n",
       "1990-01-01   24.3\n",
       "1990-04-01   24.4\n",
       "1990-07-01   25.0\n",
       "1990-10-01   24.7\n",
       "1991-01-01   24.9"
      ]
     },
     "execution_count": 49,
     "metadata": {},
     "output_type": "execute_result"
    }
   ],
   "source": [
    "# USE \"QUARTER\" INFORMATION AS DATAFRAME INDEX\n",
    "\n",
    "hdb_priceIndex_df = hdb_priceIndex_df.set_index(pd.to_datetime(hdb_priceIndex_df[\"quarter\"]))\n",
    "\n",
    "del hdb_priceIndex_df['quarter']\n",
    "hdb_priceIndex_df.head()"
   ]
  },
  {
   "cell_type": "code",
   "execution_count": 51,
   "metadata": {},
   "outputs": [
    {
     "data": {
      "image/png": "[encoded data removed]",
      "text/plain": [
       "<Figure size 432x288 with 1 Axes>"
      ]
     },
     "metadata": {},
     "output_type": "display_data"
    }
   ],
   "source": [
    "# DISPLAY QUARTERLY PRICE INDEX ON GGPLOT\n",
    "\n",
    "import matplotlib.pyplot as plt\n",
    "\n",
    "plt.style.use('ggplot')\n",
    "\n",
    "hdb_priceIndex_df[\"index\"].plot()\n",
    "plt.title(\"HDB QUARTERLY PRICE INDEX\")\n",
    "plt.show()\n"
   ]
  },
  {
   "cell_type": "code",
   "execution_count": null,
   "metadata": {},
   "outputs": [],
   "source": []
  },
  {
   "cell_type": "code",
   "execution_count": null,
   "metadata": {},
   "outputs": [],
   "source": []
  },
  {
   "cell_type": "code",
   "execution_count": null,
   "metadata": {},
   "outputs": [],
   "source": []
  }
 ],
 "metadata": {
  "kernelspec": {
   "display_name": "Python 3",
   "language": "python",
   "name": "python3"
  },
  "language_info": {
   "codemirror_mode": {
    "name": "ipython",
    "version": 3
   },
   "file_extension": ".py",
   "mimetype": "text/x-python",
   "name": "python",
   "nbconvert_exporter": "python",
   "pygments_lexer": "ipython3",
   "version": "3.7.1"
  }
 },
 "nbformat": 4,
 "nbformat_minor": 2
}
